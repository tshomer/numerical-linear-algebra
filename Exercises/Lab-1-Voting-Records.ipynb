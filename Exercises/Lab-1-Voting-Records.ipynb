{
 "cells": [
  {
   "cell_type": "markdown",
   "metadata": {},
   "source": [
    "This is a notebook version of a lab/stencil file from the textbook \"Coding the Matrix\"\n",
    "\n",
    "These files should NOT be made public, both to avoid sharing solutions, and to allow the book to maintain its value.\n",
    " \n",
    "This stencil for the lab was originally created by Philip Klien, who holds the copyright.\n",
    "\n",
    "This is a derivative work (converting to a notebook), designed for classroom simplicity, not as a separate product.\n",
    "\n",
    "# Lab: Comparing Voting Records Using Dot-Products"
   ]
  },
  {
   "cell_type": "markdown",
   "metadata": {},
   "source": [
    "### Importing the necessary data"
   ]
  },
  {
   "cell_type": "code",
   "execution_count": null,
   "metadata": {},
   "outputs": [],
   "source": [
    "# Requirements: the data file 'voting_record_dump109.txt' is included in the same folder as the notebook\n",
    "f = open('US_Senate_voting_data_109.txt')\n",
    "mylist = list(f)"
   ]
  },
  {
   "cell_type": "markdown",
   "metadata": {},
   "source": [
    "### Task 1: Create Voting Dictionary"
   ]
  },
  {
   "cell_type": "code",
   "execution_count": 2,
   "metadata": {
    "collapsed": true
   },
   "outputs": [],
   "source": [
    "def create_voting_dict(strlist):\n",
    "    \"\"\"\n",
    "    Input: a list of strings.  Each string represents the voting record of a senator.\n",
    "           The string consists of \n",
    "              - the senator's last name, \n",
    "              - a letter indicating the senator's party,\n",
    "              - a couple of letters indicating the senator's home state, and\n",
    "              - a sequence of numbers (0's, 1's, and negative 1's) indicating the senator's\n",
    "                votes on bills\n",
    "              all separated by spaces.\n",
    "    Output: A dictionary that maps the last name of a senator\n",
    "            to a list of numbers representing the senator's voting record.\n",
    "    Example: \n",
    "        >>> vd = create_voting_dict(['Kennedy D MA -1 -1 1 1', 'Snowe R ME 1 1 1 1'])\n",
    "        >>> vd == {'Snowe': [1, 1, 1, 1], 'Kennedy': [-1, -1, 1, 1]}\n",
    "        True\n",
    "\n",
    "    You can use the .split() method to split each string in the\n",
    "    strlist into a list; the first element of the list will be the senator's\n",
    "    name, the second will be his/her party affiliation (R or D), the\n",
    "    third will be his/her home state, and the remaining elements of\n",
    "    the list will be that senator's voting record on a collection of bills.\n",
    "\n",
    "    You can use the built-in procedure int() to convert a string\n",
    "    representation of an integer (e.g. '1') to the actual integer\n",
    "    (e.g. 1).\n",
    "\n",
    "    The lists for each senator should preserve the order listed in voting data.\n",
    "    In case you're feeling clever, this can be done in one line.\n",
    "    \"\"\"\n",
    "    \n",
    "    #Enter your code here! (and get rid of the \"pass\" below)\n",
    "    pass"
   ]
  },
  {
   "cell_type": "markdown",
   "metadata": {},
   "source": [
    "### Test Code for Task #1\n",
    "The following code can be used to test your 'create_voting_dict' procedure. It should be removed before exporting to the script file for auto-grading."
   ]
  },
  {
   "cell_type": "code",
   "execution_count": null,
   "metadata": {
    "collapsed": true
   },
   "outputs": [],
   "source": [
    "vd = create_voting_dict(['Kennedy D MA -1 -1 1 1', 'Snowe R ME 1 1 1 1'])\n",
    "vd == {'Snowe': [1, 1, 1, 1], 'Kennedy': [-1, -1, 1, 1]}"
   ]
  },
  {
   "cell_type": "markdown",
   "metadata": {},
   "source": [
    "### Task 2: Write a policy compare procedure"
   ]
  },
  {
   "cell_type": "code",
   "execution_count": null,
   "metadata": {
    "collapsed": true
   },
   "outputs": [],
   "source": [
    "def policy_compare(sen_a, sen_b, voting_dict):\n",
    "    \"\"\"\n",
    "    Input: last names of sen_a and sen_b, and a voting dictionary mapping senator\n",
    "           names to lists representing their voting records.\n",
    "    Output: the dot-product (as a number) representing the degree of similarity\n",
    "            between two senators' voting policies\n",
    "    Example:\n",
    "        >>> voting_dict = {'Fox-Epstein':[-1,-1,-1,1],'Ravella':[1,1,1,1]}\n",
    "        >>> policy_compare('Fox-Epstein','Ravella', voting_dict)\n",
    "        -2\n",
    "    \n",
    "    The code should correctly compute the dot-product even if the numbers are not all in {0,1,-1}.\n",
    "        >>> policy_compare('A', 'B', {'A':[100,10,1], 'B':[2,5,3]})\n",
    "        253\n",
    "        \n",
    "    You should definitely try to write this in one line.\n",
    "    \"\"\"\n",
    "    pass"
   ]
  },
  {
   "cell_type": "markdown",
   "metadata": {},
   "source": [
    "### Test code for Task #2\n",
    "The following code can be used to test 'policy_compare'"
   ]
  },
  {
   "cell_type": "code",
   "execution_count": null,
   "metadata": {
    "collapsed": true
   },
   "outputs": [],
   "source": [
    "voting_dict = {'Fox-Epstein':[-1,-1,-1,1],'Ravella':[1,1,1,1]}\n",
    "print(policy_compare('Fox-Epstein','Ravella', voting_dict))\n",
    "print(policy_compare('A', 'B', {'A':[100,10,1], 'B':[2,5,3]}))"
   ]
  },
  {
   "cell_type": "markdown",
   "metadata": {},
   "source": [
    "### Task 3: Most Similar Procedure"
   ]
  },
  {
   "cell_type": "code",
   "execution_count": null,
   "metadata": {
    "collapsed": true
   },
   "outputs": [],
   "source": [
    "def most_similar(sen, voting_dict):\n",
    "    \"\"\"\n",
    "    Input: the last name of a senator, and a dictionary mapping senator names\n",
    "           to lists representing their voting records.\n",
    "    Output: the last name of the senator whose political mindset is most\n",
    "            like the input senator (excluding, of course, the input senator\n",
    "            him/herself). Resolve ties arbitrarily.\n",
    "    Example:\n",
    "        >>> vd = {'Klein': [1,1,1], 'Fox-Epstein': [1,-1,0], 'Ravella': [-1,0,0]}\n",
    "        >>> most_similar('Klein', vd)\n",
    "        'Fox-Epstein'\n",
    "        >>> vd == {'Klein': [1,1,1], 'Fox-Epstein': [1,-1,0], 'Ravella': [-1,0,0]}\n",
    "        True\n",
    "        >>> vd = {'a': [1,1,1,0], 'b': [1,-1,0,0], 'c': [-1,0,0,0], 'd': [-1,0,0,1], 'e': [1, 0, 0,0]}\n",
    "        >>> most_similar('c', vd)\n",
    "        'd'\n",
    "\n",
    "    Note that you can (and are encouraged to) re-use your policy_compare procedure.\n",
    "    \"\"\"\n",
    "    \n",
    "    return \"\""
   ]
  },
  {
   "cell_type": "markdown",
   "metadata": {},
   "source": [
    "Testing Code"
   ]
  },
  {
   "cell_type": "code",
   "execution_count": null,
   "metadata": {
    "collapsed": true
   },
   "outputs": [],
   "source": [
    "vd = {'Klein': [1,1,1], 'Fox-Epstein': [1,-1,0], 'Ravella': [-1,0,0]}\n",
    "print(most_similar('Klein', vd))  #Expect output to be 'Fox-Epstein'\n",
    "print(vd == {'Klein': [1,1,1], 'Fox-Epstein': [1,-1,0], 'Ravella': [-1,0,0]} )  #Expected output, 'True'\n",
    "\n",
    "vd = {'a': [1,1,1,0], 'b': [1,-1,0,0], 'c': [-1,0,0,0], 'd': [-1,0,0,1], 'e': [1, 0, 0,0]}\n",
    "print(most_similar('c', vd)) #Expected output, 'd'"
   ]
  },
  {
   "cell_type": "markdown",
   "metadata": {},
   "source": [
    "### Task 4: Least Similar Procedure"
   ]
  },
  {
   "cell_type": "code",
   "execution_count": null,
   "metadata": {
    "collapsed": true
   },
   "outputs": [],
   "source": [
    "def least_similar(sen, voting_dict):\n",
    "    \"\"\"\n",
    "    Input: the last name of a senator, and a dictionary mapping senator names\n",
    "           to lists representing their voting records.\n",
    "    Output: the last name of the senator whose political mindset is least like the input\n",
    "            senator.\n",
    "    Example:\n",
    "        >>> vd = {'a': [1,1,1], 'b': [1,-1,0], 'c': [-1,0,0]}\n",
    "        >>> least_similar('a', vd)\n",
    "        'c'\n",
    "        >>> vd == {'a': [1,1,1], 'b': [1,-1,0], 'c': [-1,0,0]}\n",
    "        True\n",
    "        >>> vd = {'a': [-1,0,0], 'b': [1,0,0], 'c': [-1,1,0], 'd': [-1,1,1]}\n",
    "        >>> least_similar('c', vd)\n",
    "        'b'\n",
    "    \"\"\"\n",
    "    pass"
   ]
  },
  {
   "cell_type": "code",
   "execution_count": null,
   "metadata": {
    "collapsed": true
   },
   "outputs": [],
   "source": [
    "vd = {'a': [1,1,1], 'b': [1,-1,0], 'c': [-1,0,0]}\n",
    "print(least_similar('a', vd)) #expected output 'c'\n",
    "print( vd == {'a': [1,1,1], 'b': [1,-1,0], 'c': [-1,0,0]} ) #Expected output 'True'\n",
    "\n",
    "vd = {'a': [-1,0,0], 'b': [1,0,0], 'c': [-1,1,0], 'd': [-1,1,1]}\n",
    "print(least_similar('c', vd)) #Expected output 'b'"
   ]
  },
  {
   "cell_type": "markdown",
   "metadata": {},
   "source": [
    "### Task 5: Senators Chafee and Santorum"
   ]
  },
  {
   "cell_type": "code",
   "execution_count": null,
   "metadata": {
    "collapsed": true
   },
   "outputs": [],
   "source": [
    "most_like_chafee = ' '\n",
    "least_like_santorum = ' '"
   ]
  },
  {
   "cell_type": "markdown",
   "metadata": {},
   "source": [
    "### Task 6: Most Average Democrat"
   ]
  },
  {
   "cell_type": "code",
   "execution_count": null,
   "metadata": {
    "collapsed": true
   },
   "outputs": [],
   "source": [
    "def find_average_similarity(sen, sen_set, voting_dict):\n",
    "    \"\"\"\n",
    "    Input: the name of a senator, a set of senator names, and a voting dictionary.\n",
    "    Output: the average dot-product between sen and those in sen_set.\n",
    "    Example:\n",
    "        >>> vd = {'Klein':[1,1,1], 'Fox-Epstein':[1,-1,0], 'Ravella':[-1,0,0], 'Oyakawa':[-1,-1,-1], 'Loery':[0,1,1]}\n",
    "        >>> sens = {'Fox-Epstein','Ravella','Oyakawa','Loery'}\n",
    "        >>> find_average_similarity('Klein', sens, vd)\n",
    "        -0.5\n",
    "        >>> sens == {'Fox-Epstein','Ravella', 'Oyakawa', 'Loery'}\n",
    "        True\n",
    "        >>> vd == {'Klein':[1,1,1], 'Fox-Epstein':[1,-1,0], 'Ravella':[-1,0,0], 'Oyakawa':[-1,-1,-1], 'Loery':[0,1,1]}\n",
    "        True\n",
    "    \"\"\"\n",
    "    return ..."
   ]
  },
  {
   "cell_type": "code",
   "execution_count": null,
   "metadata": {
    "collapsed": true
   },
   "outputs": [],
   "source": [
    "#Test Code\n",
    "vd = {'Klein':[1,1,1], 'Fox-Epstein':[1,-1,0], 'Ravella':[-1,0,0], 'Oyakawa':[-1,-1,-1], 'Loery':[0,1,1]}\n",
    "sens = {'Fox-Epstein','Ravella','Oyakawa','Loery'}\n",
    "print(find_average_similarity('Klein', sens, vd) ) # Expected output :   -0.5\n",
    "\n",
    "print(sens == {'Fox-Epstein','Ravella', 'Oyakawa', 'Loery'} ) #Expected output:   True\n",
    "\n",
    "print(vd == {'Klein':[1,1,1], 'Fox-Epstein':[1,-1,0], 'Ravella':[-1,0,0], 'Oyakawa':[-1,-1,-1], 'Loery':[0,1,1]} ) \n",
    "#expected output:       True"
   ]
  },
  {
   "cell_type": "code",
   "execution_count": null,
   "metadata": {
    "collapsed": true
   },
   "outputs": [],
   "source": [
    "most_average_Democrat = ... # give the last name (or code that computes the last name)"
   ]
  },
  {
   "cell_type": "markdown",
   "metadata": {},
   "source": [
    "### Task 7: Average Record"
   ]
  },
  {
   "cell_type": "code",
   "execution_count": null,
   "metadata": {
    "collapsed": true
   },
   "outputs": [],
   "source": [
    "def find_average_record(sen_set, voting_dict):\n",
    "    \"\"\"\n",
    "    Input: a set of last names, a voting dictionary\n",
    "    Output: a vector containing the average components of the voting records\n",
    "            of the senators in the input set\n",
    "    Example: \n",
    "        >>> voting_dict = {'Klein': [-1,0,1], 'Fox-Epstein': [-1,-1,-1], 'Ravella': [0,0,1]}\n",
    "        >>> senators = {'Fox-Epstein','Ravella'}\n",
    "        >>> find_average_record(senators, voting_dict)\n",
    "        [-0.5, -0.5, 0.0]\n",
    "        >>> voting_dict == {'Klein': [-1,0,1], 'Fox-Epstein': [-1,-1,-1], 'Ravella': [0,0,1]}\n",
    "        True\n",
    "        >>> senators\n",
    "        {'Fox-Epstein','Ravella'}\n",
    "        >>> d = {'c': [-1,-1,0], 'b': [0,1,1], 'a': [0,1,1], 'e': [-1,-1,1], 'd': [-1,1,1]}\n",
    "        >>> find_average_record({'a','c','e'}, d)\n",
    "        [-0.6666666666666666, -0.3333333333333333, 0.6666666666666666]\n",
    "        >>> find_average_record({'a','c','e','b'}, d)\n",
    "        [-0.5, 0.0, 0.75]\n",
    "        >>> find_average_record({'a'}, d)\n",
    "        [0.0, 1.0, 1.0]\n",
    "    \"\"\"\n",
    "    return ..."
   ]
  },
  {
   "cell_type": "code",
   "execution_count": null,
   "metadata": {
    "collapsed": true
   },
   "outputs": [],
   "source": [
    "#Test your procedure here...\n",
    "#Use the previous tasks descriptions, and their test code to determine what you should extract from the above definition cell.\n",
    "\n"
   ]
  },
  {
   "cell_type": "code",
   "execution_count": null,
   "metadata": {
    "collapsed": true
   },
   "outputs": [],
   "source": [
    "average_Democrat_record = ... #give the vector as a list (or code to generate it!)"
   ]
  },
  {
   "cell_type": "markdown",
   "metadata": {},
   "source": [
    "### Task 8: Bitter Rivals"
   ]
  },
  {
   "cell_type": "code",
   "execution_count": null,
   "metadata": {
    "collapsed": true
   },
   "outputs": [],
   "source": [
    "def bitter_rivals(voting_dict):\n",
    "    \"\"\"\n",
    "    Input: a dictionary mapping senator names to lists representing\n",
    "           their voting records\n",
    "    Output: a tuple containing the two senators who most strongly\n",
    "            disagree with one another.\n",
    "    Example: \n",
    "        >>> voting_dict = {'Klein':[-1,0,1], 'Fox-Epstein':[-1,-1,-1], 'Ravella':[0,0,1], 'Oyakawa':[1,1,1], 'Loery':[1,1,0]}\n",
    "        >>> br = bitter_rivals(voting_dict)\n",
    "        >>> br == ('Fox-Epstein', 'Oyakawa') or br == ('Oyakawa', 'Fox-Epstein')\n",
    "        True\n",
    "    \"\"\"\n",
    "    return (..., ...)"
   ]
  },
  {
   "cell_type": "code",
   "execution_count": null,
   "metadata": {
    "collapsed": true
   },
   "outputs": [],
   "source": [
    "#Again, test your 'bitter_rivals' procedure here!"
   ]
  },
  {
   "cell_type": "markdown",
   "metadata": {},
   "source": [
    "### Task 9: Open Ended-Study\n",
    "Create a separate notebook file that answers the open-ended study questions posed in the lab handout.\n",
    "You should turn in BOTH the code, and the explanations of your answers (i.e. more than just 'yes', 'no', and names!)"
   ]
  },
  {
   "cell_type": "markdown",
   "metadata": {},
   "source": [
    "### Turning in your work...\n",
    "If you get to this point... awesome! We'll go over how to submit the code files for grading, and where to submit the explanations either Thursday or next Tuesday. \n",
    "This assignment is tentatively due by 10pm next Tuesday. "
   ]
  },
  {
   "cell_type": "code",
   "execution_count": null,
   "metadata": {
    "collapsed": true
   },
   "outputs": [],
   "source": []
  }
 ],
 "metadata": {
  "kernelspec": {
   "display_name": "Python 3",
   "language": "python",
   "name": "python3"
  },
  "language_info": {
   "codemirror_mode": {
    "name": "ipython",
    "version": 3
   },
   "file_extension": ".py",
   "mimetype": "text/x-python",
   "name": "python",
   "nbconvert_exporter": "python",
   "pygments_lexer": "ipython3",
   "version": "3.6.0"
  }
 },
 "nbformat": 4,
 "nbformat_minor": 2
}
