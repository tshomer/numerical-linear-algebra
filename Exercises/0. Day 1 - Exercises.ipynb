{
 "cells": [
  {
   "cell_type": "markdown",
   "metadata": {},
   "source": [
    "# 0. Exercises and Practice"
   ]
  },
  {
   "cell_type": "markdown",
   "metadata": {},
   "source": [
    "## Array Manipulations -- From SciPy Lecture Notes"
   ]
  },
  {
   "cell_type": "markdown",
   "metadata": {},
   "source": [
    "### 1. Form the 2-D array (without typing it in explicitly)::\n",
    "\n",
    "        [[1,  6, 11],\n",
    "         [2,  7, 12],\n",
    "         [3,  8, 13],\n",
    "         [4,  9, 14],\n",
    "         [5, 10, 15]]\n",
    "\n",
    "   and generate a new array containing its 2nd and 4th rows."
   ]
  },
  {
   "cell_type": "code",
   "execution_count": 1,
   "metadata": {
    "collapsed": true
   },
   "outputs": [],
   "source": [
    "#Put your additional code to answer the exercise here!\n",
    "import numpy as np\n",
    "a = np.ndarray(1)"
   ]
  },
  {
   "cell_type": "code",
   "execution_count": 5,
   "metadata": {},
   "outputs": [
    {
     "name": "stdout",
     "output_type": "stream",
     "text": [
      "[  2.14748365e+09]\n"
     ]
    }
   ],
   "source": [
    "print(a)\n",
    "b = np.ndarray(1)"
   ]
  },
  {
   "cell_type": "code",
   "execution_count": 6,
   "metadata": {},
   "outputs": [
    {
     "name": "stdout",
     "output_type": "stream",
     "text": [
      "[  2.14748365e+09]\n"
     ]
    }
   ],
   "source": [
    "print(b)"
   ]
  },
  {
   "cell_type": "markdown",
   "metadata": {},
   "source": [
    "### 2. Divide each column of the array ``a`` elementwise with the array ``b``.\n",
    "\n",
    "(Hint: ``np.newaxis``)."
   ]
  },
  {
   "cell_type": "code",
   "execution_count": 1,
   "metadata": {
    "collapsed": true
   },
   "outputs": [],
   "source": [
    "import numpy as np\n",
    "a = np.arange(25).reshape(5, 5)\n",
    "b = np.array([1., 5, 10, 15, 20])"
   ]
  },
  {
   "cell_type": "code",
   "execution_count": null,
   "metadata": {
    "collapsed": true
   },
   "outputs": [],
   "source": [
    "#Put your additional code to answer the exercise here!\n",
    "\n"
   ]
  },
  {
   "cell_type": "markdown",
   "metadata": {},
   "source": [
    "### 3. Harder one: Generate a 10 x 3 array of random numbers (in range [0,1]).\n",
    "   For each row, pick the number closest to 0.5.\n",
    "\n",
    "   - Use ``abs`` and ``argsort`` to find the column ``j`` closest for\n",
    "     each row.\n",
    "\n",
    "   - Use fancy indexing to extract the numbers.  (Hint: ``a[i,j]`` --\n",
    "     the array ``i`` must contain the row numbers corresponding to stuff in\n",
    "     ``j``.)"
   ]
  },
  {
   "cell_type": "code",
   "execution_count": null,
   "metadata": {
    "collapsed": true
   },
   "outputs": [],
   "source": [
    "#Put your additional code to answer the exercise here!\n",
    "\n"
   ]
  },
  {
   "cell_type": "markdown",
   "metadata": {},
   "source": [
    "## Some Basic Image Transformations"
   ]
  },
  {
   "cell_type": "markdown",
   "metadata": {},
   "source": [
    "Our goal in this set of code/exercises is to:\n",
    "* Create a simple grid of points in 2-D Space\n",
    "* Applied a graduated color scheme to those points\n",
    "* Plot the points\n",
    "* Perform some basic linear transformations on the points (and observe their movements)\n",
    "* (Advanced) -- Animate the transitions between the points.\n",
    "\n",
    "The cells below contains quite a bit of ``helper`` code to get going on some of the more difficult portions of these tasks (coloring, animation). If you are feeling adventuresome or confidence, try just adding a cell below THIS... and doing it all yourself! If not, use the portions below to get you jump-started.\n",
    "\n"
   ]
  },
  {
   "cell_type": "code",
   "execution_count": null,
   "metadata": {
    "collapsed": true
   },
   "outputs": [],
   "source": [
    "##Blank Cell for the Adventuresome!\n",
    "\n",
    "\n",
    "\n",
    "\n"
   ]
  },
  {
   "cell_type": "markdown",
   "metadata": {},
   "source": [
    "### Generating and Plotting the basic, colored points"
   ]
  },
  {
   "cell_type": "code",
   "execution_count": null,
   "metadata": {
    "collapsed": true
   },
   "outputs": [],
   "source": [
    "# Visualizing 2D linear transformations as animated gifs\n",
    "#\n",
    "# Code originally created by: Raibatak Das\n",
    "# Date: Nov 2016, Final version Dec. 2016\n",
    "#\n",
    "# Modified by: Karl Schmitt\n",
    "# Modifications REMOVED significant portions for teaching purposes\n",
    "# Last Modified 8/23/18\n",
    "\n",
    "## PART 1\n",
    "\n",
    "import numpy as np\n",
    "import matplotlib as mpl\n",
    "import matplotlib.pyplot as plt\n",
    "\n",
    "# Create a grid of points in x-y space \n",
    "\n",
    "        # Hint: Use mgrid, but in 2-D space....\n",
    "xygrid = #???\n",
    "    \n",
    "    \n",
    "# Plot original grid points\n",
    "# This function assigns a unique color based on position\n",
    "def colorizer(x, y):\n",
    "    \"\"\"\n",
    "    Map x-y coordinates to a rgb color\n",
    "    \"\"\"\n",
    "    r = min(1, 1-y/3)\n",
    "    g = min(1, 1+y/3)\n",
    "    b = 1/4 + x/16\n",
    "    return (r, g, b)\n",
    "\n",
    "# Map grid coordinates to colors\n",
    "colors = list(map(colorizer, xygrid[0], xygrid[1]))\n",
    "\n",
    "# Plot x-y grid points \n",
    "plt.figure(figsize=(4, 4), facecolor=\"w\")\n",
    "plt.scatter(xygrid[0], xygrid[1], c=colors, edgecolor=\"none\")\n",
    "# Set axis limits\n",
    "plt.grid(True)\n",
    "plt.axis(\"equal\")\n",
    "plt.title(\"Original grid in x-y space\")\n",
    "\n",
    "# uncomment to save plot\n",
    "#plt.savefig(\"../figures/grid-original.png\", dpi=150)\n",
    "#plt.savefig(\"../figures/grid-original-small.png\", dpi=75)"
   ]
  },
  {
   "cell_type": "markdown",
   "metadata": {},
   "source": [
    "### Now we'll try some transformations and plot the changed points."
   ]
  },
  {
   "cell_type": "code",
   "execution_count": null,
   "metadata": {
    "collapsed": true
   },
   "outputs": [],
   "source": [
    "# Visualizing 2D linear transformations as animated gifs\n",
    "#\n",
    "# Code originally created by: Raibatak Das\n",
    "# Date: Nov 2016, Final version Dec. 2016\n",
    "#\n",
    "# Modified by: Karl Schmitt\n",
    "# Modifications REMOVED significant portions for teaching purposes\n",
    "# Last Modified 8/23/18\n",
    "\n",
    "## PART 2\n",
    "\n",
    "# Transform and plot the grid points"
   ]
  },
  {
   "cell_type": "markdown",
   "metadata": {},
   "source": [
    "In the cell below, apply a linear transformation using the matrix:\n",
    "\n",
    "        [[2,  1],\n",
    "         [-1,  1]]\n",
    "\n",
    "Store that new matrix as ``uvgrid``\n",
    "\n",
    "Hint: To do matrix multiplication, use: ``np.dot( <left matrix>, <right matrix> )``"
   ]
  },
  {
   "cell_type": "code",
   "execution_count": null,
   "metadata": {
    "collapsed": true
   },
   "outputs": [],
   "source": [
    "# Apply linear transform\n",
    "a = #Define your transformation matrix here\n",
    "print(a)\n",
    "uvgrid = # Put your multiplication of a and xygrid here"
   ]
  },
  {
   "cell_type": "code",
   "execution_count": null,
   "metadata": {
    "collapsed": true
   },
   "outputs": [],
   "source": [
    "def plot_transform(uvgrid, colors):\n",
    "    # Plot transformed grid points\n",
    "    plt.figure(figsize=(4, 4), facecolor=\"w\")\n",
    "    plt.scatter(uvgrid[0], uvgrid[1], c=colors, edgecolor=\"none\")\n",
    "    plt.grid(True)\n",
    "    plt.axis(\"equal\")\n",
    "    plt.title(\"Transformed grid in u-v space\")\n",
    "    # uncomment to save plot\n",
    "    #plt.savefig(\"../figures/grid-transformed.png\", dpi=150)\n",
    "    #plt.savefig(\"../figures/grid-transformed-small.png\", dpi=75)\n",
    "    \n",
    "plot_transform(uvgrid, colors)"
   ]
  },
  {
   "cell_type": "markdown",
   "metadata": {},
   "source": [
    "Let's animate this transformation!"
   ]
  },
  {
   "cell_type": "code",
   "execution_count": null,
   "metadata": {
    "collapsed": true
   },
   "outputs": [],
   "source": [
    "# To animate the transform, we generate a series of intermediates\n",
    "# Function to compute all intermediate transforms\n",
    "def stepwise_transform(a, points, nsteps=30):\n",
    "    '''\n",
    "    Generate a series of intermediate transform for the matrix multiplication\n",
    "      np.dot(a, points) # matrix multiplication\n",
    "    starting with the identity matrix, where\n",
    "      a: 2-by-2 matrix\n",
    "      points: 2-by-n array of coordinates in x-y space \n",
    "    returns a (nsteps + 1)x2xn array\n",
    "    '''\n",
    "    # create empty array of the right size\n",
    "    transgrid = np.zeros((nsteps+1,) + np.shape(points))\n",
    "    for j in range(nsteps+1):\n",
    "        intermediate = np.eye(2) + j/nsteps*(a - np.eye(2)) # compute intermediate matrix\n",
    "        transgrid[j] = np.dot(intermediate, points) # apply intermediate matrix transformation\n",
    "    return transgrid\n",
    "\n",
    "# Apply to x-y grid\n",
    "steps = 30\n",
    "transform = stepwise_transform(a, xygrid, nsteps=steps)\n",
    "\n",
    "# Create a series of figures showing the intermediate transforms\n",
    "def make_plots(transarray, color, outdir=\"png-frames\", figuresize=(4,4), figuredpi=150):\n",
    "    '''\n",
    "    Generate a series of png images showing a linear transformation stepwise\n",
    "    '''\n",
    "    nsteps = transarray.shape[0]\n",
    "    ndigits = len(str(nsteps)) # to determine filename padding\n",
    "    maxval = np.abs(transarray.max()) # to set axis limits\n",
    "    # create directory if necessary\n",
    "    import os\n",
    "    if not os.path.exists(outdir):\n",
    "        os.makedirs(outdir)\n",
    "    # create figure\n",
    "    plt.ioff()\n",
    "    fig = plt.figure(figsize=figuresize, facecolor=\"w\")\n",
    "    for j in range(nsteps): # plot individual frames\n",
    "        plt.cla()\n",
    "        plt.scatter(transarray[j,0], transarray[j,1], s=36, c=color, edgecolor=\"none\")\n",
    "        plt.xlim(1.1*np.array([-maxval, maxval]))\n",
    "        plt.ylim(1.1*np.array([-maxval, maxval]))\n",
    "        plt.grid(True)\n",
    "        plt.draw()\n",
    "        # save as png\n",
    "        outfile = os.path.join(outdir, \"frame-\" + str(j+1).zfill(ndigits) + \".png\")\n",
    "        fig.savefig(outfile, dpi=figuredpi)\n",
    "    plt.ion()\n",
    "\n",
    "# Generate figures\n",
    "make_plots(transform, colors, outdir=\"tmp\")"
   ]
  },
  {
   "cell_type": "markdown",
   "metadata": {},
   "source": [
    "The following code for making a gif may not work on every system..."
   ]
  },
  {
   "cell_type": "code",
   "execution_count": null,
   "metadata": {
    "collapsed": true
   },
   "outputs": [],
   "source": [
    "# Convert to gif (works on linux/os-x, requires image-magick)\n",
    "from subprocess import call\n",
    "call(\"cd png-frames && convert -delay 10 frame-*.png ../animation.gif\", shell=True)\n",
    "# Optional: clean up png files\n",
    "call(\"rm -f png-frames/*.png\", shell=True)"
   ]
  },
  {
   "cell_type": "markdown",
   "metadata": {},
   "source": [
    "Alright, time for some more challenging transformations...\n",
    "\n",
    "Here I'll just specify what the transformation.. you'll need to determine what the matrix looks like!"
   ]
  },
  {
   "cell_type": "code",
   "execution_count": null,
   "metadata": {
    "collapsed": true
   },
   "outputs": [],
   "source": [
    "# Example 2: Rotation\n",
    "# 60 degree clockwise rotation  -- Hint, you'll need sin and cos...\n",
    "a = \n",
    "print(a)\n",
    "uvgrid = # generate!\n",
    "plot_transform(uvgrid, colors)\n",
    "\n",
    "#Make animations\n",
    "# Generate intermediates\n",
    "transform = stepwise_transform(a, xygrid, nsteps=steps)\n",
    "make_plots(transform, colors)\n",
    "# see above to create gif\n",
    "\n",
    "# Example 3: Shear\n",
    "a =  # shear along x-axis\n",
    "print(a)\n",
    "uvgrid = # generate!\n",
    "plot_transform(uvgrid, colors)\n",
    "\n",
    "#Make animations\n",
    "# Generate intermediates\n",
    "transform = stepwise_transform(a, xygrid, nsteps=steps)\n",
    "make_plots(transform, colors)\n",
    "# see above to create gif\n",
    "\n",
    "# Example 4: Permutation\n",
    "a = \n",
    "print(a)\n",
    "uvgrid = # generate!\n",
    "plot_transform(uvgrid, colors)\n",
    "\n",
    "#Make animations\n",
    "# Generate intermediates\n",
    "transform = stepwise_transform(a, xygrid, nsteps=steps)\n",
    "make_plots(transform, colors)\n",
    "# see above to create gif\n",
    "\n",
    "# Example 5: Projection\n",
    "a = \n",
    "print(a)\n",
    "uvgrid = # generate!\n",
    "plot_transform(uvgrid, colors)\n",
    "\n",
    "#Make animations\n",
    "# Generate intermediates\n",
    "transform = stepwise_transform(a, xygrid, nsteps=steps)\n",
    "make_plots(transform, colors)\n",
    "# see above to create gif"
   ]
  },
  {
   "cell_type": "markdown",
   "metadata": {},
   "source": [
    "## Picture manipulation: Framing a Face\n",
    "------------------------------------\n",
    "\n",
    "Let's do some manipulations on numpy arrays by starting with an image\n",
    "of a racoon.  ``scipy`` provides a 2D array of this image with the\n",
    "``scipy.misc.face`` function::"
   ]
  },
  {
   "cell_type": "code",
   "execution_count": null,
   "metadata": {
    "collapsed": true
   },
   "outputs": [],
   "source": [
    "from scipy import misc\n",
    "face = misc.face(gray=True)  # 2D grayscale image"
   ]
  },
  {
   "cell_type": "markdown",
   "metadata": {},
   "source": [
    "Here are a few images we will be able to obtain with our manipulations:\n",
    "use different colormaps, crop the image, change some parts of the image.\n",
    "\n",
    "* Create an array of the image with a narrower centering : for example,\n",
    "    remove 100 pixels from all the borders of the image. To check the result,\n",
    "    display this new array with ``imshow``.\n",
    "\n",
    "* We will now frame the face with a black locket. For this, we\n",
    "    need to create a mask corresponding to the pixels we want to be\n",
    "    black. The center of the face is around (660, 330), so we defined\n",
    "    the mask by this condition ``(y-300)**2 + (x-660)**2``\n",
    "\n",
    "    Change the circle to an ellipsoid.\n"
   ]
  }
 ],
 "metadata": {
  "kernelspec": {
   "display_name": "Python 3",
   "language": "python",
   "name": "python3"
  },
  "language_info": {
   "codemirror_mode": {
    "name": "ipython",
    "version": 3
   },
   "file_extension": ".py",
   "mimetype": "text/x-python",
   "name": "python",
   "nbconvert_exporter": "python",
   "pygments_lexer": "ipython3",
   "version": "3.6.0"
  }
 },
 "nbformat": 4,
 "nbformat_minor": 2
}
