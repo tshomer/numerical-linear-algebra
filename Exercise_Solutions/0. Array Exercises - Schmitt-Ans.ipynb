{
 "cells": [
  {
   "cell_type": "markdown",
   "metadata": {},
   "source": [
    "# 0. Exercises and Practice"
   ]
  },
  {
   "cell_type": "markdown",
   "metadata": {},
   "source": [
    "## Array Manipulations -- From SciPy Lecture Notes"
   ]
  },
  {
   "cell_type": "markdown",
   "metadata": {},
   "source": [
    "### 1. Form the 2-D array (without typing it in explicitly)::\n",
    "\n",
    "        [[1,  6, 11],\n",
    "         [2,  7, 12],\n",
    "         [3,  8, 13],\n",
    "         [4,  9, 14],\n",
    "         [5, 10, 15]]\n",
    "\n",
    "   and generate a new array containing its 2nd and 4th rows."
   ]
  },
  {
   "cell_type": "code",
   "execution_count": 2,
   "metadata": {},
   "outputs": [
    {
     "name": "stdout",
     "output_type": "stream",
     "text": [
      "[1 2 3 4 5] [ 6  7  8  9 10] [11 12 13 14 15]\n"
     ]
    }
   ],
   "source": [
    "#Put your additional code to answer the exercise here!\n",
    "import numpy as np\n",
    "a = np.arange(1,6)\n",
    "b = np.arange(6,11)\n",
    "c = np.arange(11,16)\n",
    "print(a,b,c)"
   ]
  },
  {
   "cell_type": "code",
   "execution_count": 3,
   "metadata": {},
   "outputs": [
    {
     "name": "stdout",
     "output_type": "stream",
     "text": [
      "[[ 1  6 11]\n",
      " [ 2  7 12]\n",
      " [ 3  8 13]\n",
      " [ 4  9 14]\n",
      " [ 5 10 15]]\n"
     ]
    }
   ],
   "source": [
    "myarray = np.column_stack([a,b,c])\n",
    "print(myarray)"
   ]
  },
  {
   "cell_type": "code",
   "execution_count": 4,
   "metadata": {},
   "outputs": [
    {
     "name": "stdout",
     "output_type": "stream",
     "text": [
      "[[ 2  7 12]\n",
      " [ 4  9 14]]\n"
     ]
    }
   ],
   "source": [
    "mysubarray = myarray[(1,3),:]\n",
    "print(mysubarray)"
   ]
  },
  {
   "cell_type": "code",
   "execution_count": 5,
   "metadata": {},
   "outputs": [
    {
     "name": "stdout",
     "output_type": "stream",
     "text": [
      "[[ 1  2  3  4  5]\n",
      " [ 6  7  8  9 10]\n",
      " [11 12 13 14 15]]\n",
      "[[ 1  6 11]\n",
      " [ 2  7 12]\n",
      " [ 3  8 13]\n",
      " [ 4  9 14]\n",
      " [ 5 10 15]]\n"
     ]
    }
   ],
   "source": [
    "a = np.arange(1,16).reshape(3,5)\n",
    "print(a)\n",
    "print(a.T)\n"
   ]
  },
  {
   "cell_type": "markdown",
   "metadata": {},
   "source": [
    "### 2. Divide each column of the array ``a`` elementwise with the array ``b``.\n",
    "\n",
    "(Hint: ``np.newaxis``)."
   ]
  },
  {
   "cell_type": "code",
   "execution_count": 6,
   "metadata": {},
   "outputs": [
    {
     "name": "stdout",
     "output_type": "stream",
     "text": [
      "[[ 0  1  2  3  4]\n",
      " [ 5  6  7  8  9]\n",
      " [10 11 12 13 14]\n",
      " [15 16 17 18 19]\n",
      " [20 21 22 23 24]]\n",
      "[  1.   5.  10.  15.  20.]\n"
     ]
    }
   ],
   "source": [
    "import numpy as np\n",
    "a = np.arange(25).reshape(5, 5)\n",
    "b = np.array([1., 5, 10, 15, 20])  #Here b is an ARRAY .. so we need to do different operations.\n",
    "print(a)\n",
    "print(b)"
   ]
  },
  {
   "cell_type": "code",
   "execution_count": 7,
   "metadata": {},
   "outputs": [
    {
     "name": "stdout",
     "output_type": "stream",
     "text": [
      "[[  1.]\n",
      " [  5.]\n",
      " [ 10.]\n",
      " [ 15.]\n",
      " [ 20.]]\n",
      "[[ 0.          1.          2.          3.          4.        ]\n",
      " [ 1.          1.2         1.4         1.6         1.8       ]\n",
      " [ 1.          1.1         1.2         1.3         1.4       ]\n",
      " [ 1.          1.06666667  1.13333333  1.2         1.26666667]\n",
      " [ 1.          1.05        1.1         1.15        1.2       ]]\n",
      "The next two commands don't work with b as an array/vector\n",
      "[  1.   5.  10.  15.  20.]\n"
     ]
    },
    {
     "ename": "ValueError",
     "evalue": "bad axis2 argument to swapaxes",
     "output_type": "error",
     "traceback": [
      "\u001b[1;31m---------------------------------------------------------------------------\u001b[0m",
      "\u001b[1;31mValueError\u001b[0m                                Traceback (most recent call last)",
      "\u001b[1;32m<ipython-input-7-6619a074cdff>\u001b[0m in \u001b[0;36m<module>\u001b[1;34m()\u001b[0m\n\u001b[0;32m      4\u001b[0m \u001b[0mprint\u001b[0m\u001b[1;33m(\u001b[0m\u001b[1;34m\"The next two commands don't work with b as an array/vector\"\u001b[0m\u001b[1;33m)\u001b[0m\u001b[1;33m\u001b[0m\u001b[0m\n\u001b[0;32m      5\u001b[0m \u001b[0mprint\u001b[0m\u001b[1;33m(\u001b[0m\u001b[0mb\u001b[0m\u001b[1;33m.\u001b[0m\u001b[0mT\u001b[0m\u001b[1;33m)\u001b[0m\u001b[1;33m\u001b[0m\u001b[0m\n\u001b[1;32m----> 6\u001b[1;33m \u001b[0mprint\u001b[0m\u001b[1;33m(\u001b[0m\u001b[0ma\u001b[0m\u001b[1;33m/\u001b[0m\u001b[0mnp\u001b[0m\u001b[1;33m.\u001b[0m\u001b[0mswapaxes\u001b[0m\u001b[1;33m(\u001b[0m\u001b[0mb\u001b[0m\u001b[1;33m,\u001b[0m\u001b[1;36m0\u001b[0m\u001b[1;33m,\u001b[0m\u001b[1;36m1\u001b[0m\u001b[1;33m)\u001b[0m\u001b[1;33m)\u001b[0m\u001b[1;33m\u001b[0m\u001b[0m\n\u001b[0m",
      "\u001b[1;32mC:\\Program Files\\Anaconda3\\lib\\site-packages\\numpy\\core\\fromnumeric.py\u001b[0m in \u001b[0;36mswapaxes\u001b[1;34m(a, axis1, axis2)\u001b[0m\n\u001b[0;32m    499\u001b[0m \u001b[1;33m\u001b[0m\u001b[0m\n\u001b[0;32m    500\u001b[0m     \"\"\"\n\u001b[1;32m--> 501\u001b[1;33m     \u001b[1;32mreturn\u001b[0m \u001b[0m_wrapfunc\u001b[0m\u001b[1;33m(\u001b[0m\u001b[0ma\u001b[0m\u001b[1;33m,\u001b[0m \u001b[1;34m'swapaxes'\u001b[0m\u001b[1;33m,\u001b[0m \u001b[0maxis1\u001b[0m\u001b[1;33m,\u001b[0m \u001b[0maxis2\u001b[0m\u001b[1;33m)\u001b[0m\u001b[1;33m\u001b[0m\u001b[0m\n\u001b[0m\u001b[0;32m    502\u001b[0m \u001b[1;33m\u001b[0m\u001b[0m\n\u001b[0;32m    503\u001b[0m \u001b[1;33m\u001b[0m\u001b[0m\n",
      "\u001b[1;32mC:\\Program Files\\Anaconda3\\lib\\site-packages\\numpy\\core\\fromnumeric.py\u001b[0m in \u001b[0;36m_wrapfunc\u001b[1;34m(obj, method, *args, **kwds)\u001b[0m\n\u001b[0;32m     55\u001b[0m \u001b[1;32mdef\u001b[0m \u001b[0m_wrapfunc\u001b[0m\u001b[1;33m(\u001b[0m\u001b[0mobj\u001b[0m\u001b[1;33m,\u001b[0m \u001b[0mmethod\u001b[0m\u001b[1;33m,\u001b[0m \u001b[1;33m*\u001b[0m\u001b[0margs\u001b[0m\u001b[1;33m,\u001b[0m \u001b[1;33m**\u001b[0m\u001b[0mkwds\u001b[0m\u001b[1;33m)\u001b[0m\u001b[1;33m:\u001b[0m\u001b[1;33m\u001b[0m\u001b[0m\n\u001b[0;32m     56\u001b[0m     \u001b[1;32mtry\u001b[0m\u001b[1;33m:\u001b[0m\u001b[1;33m\u001b[0m\u001b[0m\n\u001b[1;32m---> 57\u001b[1;33m         \u001b[1;32mreturn\u001b[0m \u001b[0mgetattr\u001b[0m\u001b[1;33m(\u001b[0m\u001b[0mobj\u001b[0m\u001b[1;33m,\u001b[0m \u001b[0mmethod\u001b[0m\u001b[1;33m)\u001b[0m\u001b[1;33m(\u001b[0m\u001b[1;33m*\u001b[0m\u001b[0margs\u001b[0m\u001b[1;33m,\u001b[0m \u001b[1;33m**\u001b[0m\u001b[0mkwds\u001b[0m\u001b[1;33m)\u001b[0m\u001b[1;33m\u001b[0m\u001b[0m\n\u001b[0m\u001b[0;32m     58\u001b[0m \u001b[1;33m\u001b[0m\u001b[0m\n\u001b[0;32m     59\u001b[0m     \u001b[1;31m# An AttributeError occurs if the object does not have\u001b[0m\u001b[1;33m\u001b[0m\u001b[1;33m\u001b[0m\u001b[0m\n",
      "\u001b[1;31mValueError\u001b[0m: bad axis2 argument to swapaxes"
     ]
    }
   ],
   "source": [
    "#Put your additional code to answer the exercise here!\n",
    "print(b[:,np.newaxis])\n",
    "print(a/b[:,np.newaxis])\n",
    "print(\"The next two commands don't work with b as an array/vector\")\n",
    "print(b.T)\n",
    "print(a/np.swapaxes(b,0,1))"
   ]
  },
  {
   "cell_type": "code",
   "execution_count": 9,
   "metadata": {},
   "outputs": [
    {
     "name": "stdout",
     "output_type": "stream",
     "text": [
      "[[ 0  1  2  3  4]\n",
      " [ 5  6  7  8  9]\n",
      " [10 11 12 13 14]\n",
      " [15 16 17 18 19]\n",
      " [20 21 22 23 24]]\n",
      "[[  1.   5.  10.  15.  20.]]\n"
     ]
    }
   ],
   "source": [
    "b = np.array([[1., 5, 10, 15, 20]]) #If we make b an actual vector/matrix... then these work...\n",
    "print(a)\n",
    "print(b)"
   ]
  },
  {
   "cell_type": "code",
   "execution_count": 10,
   "metadata": {},
   "outputs": [
    {
     "name": "stdout",
     "output_type": "stream",
     "text": [
      "[[ 0.          1.          2.          3.          4.        ]\n",
      " [ 1.          1.2         1.4         1.6         1.8       ]\n",
      " [ 1.          1.1         1.2         1.3         1.4       ]\n",
      " [ 1.          1.06666667  1.13333333  1.2         1.26666667]\n",
      " [ 1.          1.05        1.1         1.15        1.2       ]]\n",
      "---\n",
      "[[ 0.          1.          2.          3.          4.        ]\n",
      " [ 1.          1.2         1.4         1.6         1.8       ]\n",
      " [ 1.          1.1         1.2         1.3         1.4       ]\n",
      " [ 1.          1.06666667  1.13333333  1.2         1.26666667]\n",
      " [ 1.          1.05        1.1         1.15        1.2       ]]\n"
     ]
    }
   ],
   "source": [
    "print(a/b.T)\n",
    "print(\"---\")\n",
    "print(a/np.swapaxes(b,0,1))"
   ]
  },
  {
   "cell_type": "markdown",
   "metadata": {},
   "source": [
    "### 3. Harder one: Generate a 10 x 3 array of random numbers (in range [0,1]).\n",
    "   For each row, pick the number closest to 0.5.\n",
    "\n",
    "   - Use ``abs`` and ``argsort`` to find the column ``j`` closest for\n",
    "     each row.\n",
    "\n",
    "   - Use fancy indexing to extract the numbers.  (Hint: ``a[i,j]`` --\n",
    "     the array ``i`` must contain the row numbers corresponding to stuff in\n",
    "     ``j``.)"
   ]
  },
  {
   "cell_type": "code",
   "execution_count": 11,
   "metadata": {},
   "outputs": [
    {
     "name": "stdout",
     "output_type": "stream",
     "text": [
      "[[ 0.82203111  0.71669347  0.89493504]\n",
      " [ 0.98745974  0.91556332  0.63140939]\n",
      " [ 0.69521917  0.08948081  0.69250661]\n",
      " [ 0.13154796  0.67809954  0.47906236]\n",
      " [ 0.37534657  0.33351328  0.82201938]\n",
      " [ 0.77060722  0.53948973  0.30356941]\n",
      " [ 0.67318699  0.54926736  0.39101578]\n",
      " [ 0.63578907  0.36050915  0.67701791]\n",
      " [ 0.63804413  0.7194482   0.38707522]\n",
      " [ 0.08673964  0.8420653   0.29073816]]\n"
     ]
    }
   ],
   "source": [
    "#Put your additional code to answer the exercise here!\n",
    "randarry = np.random.rand(10,3)\n",
    "print(randarry)\n"
   ]
  },
  {
   "cell_type": "code",
   "execution_count": 12,
   "metadata": {},
   "outputs": [
    {
     "name": "stdout",
     "output_type": "stream",
     "text": [
      "Distance from 0.5\n",
      "[[ 0.32203111  0.21669347  0.39493504]\n",
      " [ 0.48745974  0.41556332  0.13140939]\n",
      " [ 0.19521917 -0.41051919  0.19250661]\n",
      " [-0.36845204  0.17809954 -0.02093764]\n",
      " [-0.12465343 -0.16648672  0.32201938]\n",
      " [ 0.27060722  0.03948973 -0.19643059]\n",
      " [ 0.17318699  0.04926736 -0.10898422]\n",
      " [ 0.13578907 -0.13949085  0.17701791]\n",
      " [ 0.13804413  0.2194482  -0.11292478]\n",
      " [-0.41326036  0.3420653  -0.20926184]]\n",
      "Absolute distance from 0.5\n",
      "[[ 0.32203111  0.21669347  0.39493504]\n",
      " [ 0.48745974  0.41556332  0.13140939]\n",
      " [ 0.19521917  0.41051919  0.19250661]\n",
      " [ 0.36845204  0.17809954  0.02093764]\n",
      " [ 0.12465343  0.16648672  0.32201938]\n",
      " [ 0.27060722  0.03948973  0.19643059]\n",
      " [ 0.17318699  0.04926736  0.10898422]\n",
      " [ 0.13578907  0.13949085  0.17701791]\n",
      " [ 0.13804413  0.2194482   0.11292478]\n",
      " [ 0.41326036  0.3420653   0.20926184]]\n"
     ]
    }
   ],
   "source": [
    "#Find distance from 0.5\n",
    "print(\"Distance from 0.5\")\n",
    "print(randarry-0.5)\n",
    "print(\"Absolute distance from 0.5\")\n",
    "dist05=np.abs(randarry-0.5)\n",
    "print(dist05)"
   ]
  },
  {
   "cell_type": "code",
   "execution_count": 14,
   "metadata": {},
   "outputs": [
    {
     "name": "stdout",
     "output_type": "stream",
     "text": [
      "[[1 0 2]\n",
      " [2 1 0]\n",
      " [2 0 1]\n",
      " [2 1 0]\n",
      " [0 1 2]\n",
      " [1 2 0]\n",
      " [1 2 0]\n",
      " [0 1 2]\n",
      " [2 0 1]\n",
      " [2 1 0]]\n",
      "[1 2 2 2 0 1 1 0 2 2]\n",
      "Here I wanted the 0 column because the output from argsort is the\n",
      "INDEX to the element that should go into that location. That is, the\n",
      "value in location 0,0 is the index of the element from the 0th row\n",
      "that should go in the 0th column when sorted\n"
     ]
    }
   ],
   "source": [
    "print(np.argsort(dist05,axis=1))\n",
    "indx_to_closest = np.argsort(dist05,axis=1)[:,0]\n",
    "print(indx_to_closest)\n",
    "print(\"Here I wanted the 0 column because the output from argsort is the\")\n",
    "print(\"INDEX to the element that should go into that location. That is, the\")\n",
    "print(\"value in location 0,0 is the index of the element from the 0th row\")\n",
    "print(\"that should go in the 0th column when sorted\")"
   ]
  },
  {
   "cell_type": "code",
   "execution_count": 16,
   "metadata": {},
   "outputs": [
    {
     "name": "stdout",
     "output_type": "stream",
     "text": [
      "[[ 0.82203111  0.71669347  0.89493504]\n",
      " [ 0.98745974  0.91556332  0.63140939]\n",
      " [ 0.69521917  0.08948081  0.69250661]\n",
      " [ 0.13154796  0.67809954  0.47906236]\n",
      " [ 0.37534657  0.33351328  0.82201938]\n",
      " [ 0.77060722  0.53948973  0.30356941]\n",
      " [ 0.67318699  0.54926736  0.39101578]\n",
      " [ 0.63578907  0.36050915  0.67701791]\n",
      " [ 0.63804413  0.7194482   0.38707522]\n",
      " [ 0.08673964  0.8420653   0.29073816]]\n",
      "[ 0.71669347  0.63140939  0.69250661  0.47906236  0.37534657  0.53948973\n",
      "  0.54926736  0.63578907  0.38707522  0.29073816]\n",
      "Recall, we can actually index directly with argsort's output...but it's harder to read\n",
      "[ 0.71669347  0.63140939  0.69250661  0.47906236  0.37534657  0.53948973\n",
      "  0.54926736  0.63578907  0.38707522  0.29073816]\n"
     ]
    }
   ],
   "source": [
    "print(randarry)\n",
    "print(randarry[np.arange(10),indx_to_closest])\n",
    "print(\"Recall, we can actually index directly with argsort's output...but it's harder to read the code\")\n",
    "print(randarry[np.arange(10), np.argsort(dist05,axis=1)[:,0]])"
   ]
  },
  {
   "cell_type": "code",
   "execution_count": 18,
   "metadata": {},
   "outputs": [
    {
     "name": "stdout",
     "output_type": "stream",
     "text": [
      "Recall this over-indexs into randarry\n",
      "[[ 0.71669347  0.89493504  0.89493504  0.89493504  0.82203111  0.71669347\n",
      "   0.71669347  0.82203111  0.89493504  0.89493504]\n",
      " [ 0.91556332  0.63140939  0.63140939  0.63140939  0.98745974  0.91556332\n",
      "   0.91556332  0.98745974  0.63140939  0.63140939]\n",
      " [ 0.08948081  0.69250661  0.69250661  0.69250661  0.69521917  0.08948081\n",
      "   0.08948081  0.69521917  0.69250661  0.69250661]\n",
      " [ 0.67809954  0.47906236  0.47906236  0.47906236  0.13154796  0.67809954\n",
      "   0.67809954  0.13154796  0.47906236  0.47906236]\n",
      " [ 0.33351328  0.82201938  0.82201938  0.82201938  0.37534657  0.33351328\n",
      "   0.33351328  0.37534657  0.82201938  0.82201938]\n",
      " [ 0.53948973  0.30356941  0.30356941  0.30356941  0.77060722  0.53948973\n",
      "   0.53948973  0.77060722  0.30356941  0.30356941]\n",
      " [ 0.54926736  0.39101578  0.39101578  0.39101578  0.67318699  0.54926736\n",
      "   0.54926736  0.67318699  0.39101578  0.39101578]\n",
      " [ 0.36050915  0.67701791  0.67701791  0.67701791  0.63578907  0.36050915\n",
      "   0.36050915  0.63578907  0.67701791  0.67701791]\n",
      " [ 0.7194482   0.38707522  0.38707522  0.38707522  0.63804413  0.7194482\n",
      "   0.7194482   0.63804413  0.38707522  0.38707522]\n",
      " [ 0.8420653   0.29073816  0.29073816  0.29073816  0.08673964  0.8420653\n",
      "   0.8420653   0.08673964  0.29073816  0.29073816]]\n"
     ]
    }
   ],
   "source": [
    "print(\"Recall this over-indexs into randarry\")\n",
    "print(randarry[:,indx_to_closest])"
   ]
  }
 ],
 "metadata": {
  "anaconda-cloud": {},
  "kernelspec": {
   "display_name": "Python [default]",
   "language": "python",
   "name": "python3"
  },
  "language_info": {
   "codemirror_mode": {
    "name": "ipython",
    "version": 3
   },
   "file_extension": ".py",
   "mimetype": "text/x-python",
   "name": "python",
   "nbconvert_exporter": "python",
   "pygments_lexer": "ipython3",
   "version": "3.5.4"
  }
 },
 "nbformat": 4,
 "nbformat_minor": 2
}
